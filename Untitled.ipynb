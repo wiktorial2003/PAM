{
 "cells": [
  {
   "cell_type": "code",
   "execution_count": null,
   "id": "19a019e5-07e9-42ab-ba58-d83ad5017916",
   "metadata": {},
   "outputs": [],
   "source": [
    "import requests\n",
    "response = requests.post('https://appeears.earthdatacloud.nasa.gov/api/login', auth=('mvsc', 'G39Bqd/bq6QZ7/W'))\n",
    "token = response.json()['token']\n",
    "headers = {'Authorization': f'Bearer {token}'}"
   ]
  },
  {
   "cell_type": "code",
   "execution_count": null,
   "id": "e0ea5c92-36c1-4ed7-a936-a1bfb0ab3885",
   "metadata": {},
   "outputs": [],
   "source": [
    "products = requests.get('https://appeears.earthdatacloud.nasa.gov/api/product').json()\n",
    "# Filter for MODIS: Look for 'MOD13Q1.061'\n",
    "layers = requests.get('https://appeears.earthdatacloud.nasa.gov/api/product/MOD13Q1.061').json()\n",
    "# Check '_250m_16_days_NDVI': Scale by 0.0001, FillValue=-3000\n",
    "quality = requests.get('https://appeears.earthdatacloud.nasa.gov/api/quality/MOD13Q1.061/_250m_16_days_VI_Quality').json()"
   ]
  },
  {
   "cell_type": "code",
   "execution_count": null,
   "id": "f8e57eb5-cd28-44c5-b206-566d6fede10d",
   "metadata": {},
   "outputs": [],
   "source": [
    "print(products)"
   ]
  },
  {
   "cell_type": "code",
   "execution_count": null,
   "id": "bb83bc88-c793-4aa3-abcb-e02ecfb9ee9c",
   "metadata": {},
   "outputs": [],
   "source": [
    "task = {\n",
    "    'task_type': 'area',\n",
    "    'task_name': 'Pollen_Veg_MVP',\n",
    "    'params': {\n",
    "        'dates': [{'startDate': '01-01-2025', 'endDate': '10-04-2025'}],\n",
    "        'layers': [{'product': 'MOD13Q1.061', 'layer': '_250m_16_days_NDVI'}],\n",
    "        'output': {'format': {'type': 'geotiff'}, 'projection': 'geographic'},\n",
    "        'geo': {\n",
    "            'type': 'FeatureCollection',\n",
    "            'features': [{\n",
    "                'type': 'Feature',\n",
    "                'geometry': {\n",
    "                    'type': 'Polygon',\n",
    "                    'coordinates': [[[-124,32], [-114,32], [-114,42], [-124,42], [-124,32]]]\n",
    "                }\n",
    "            }]\n",
    "        }\n",
    "    }\n",
    "}\n",
    "response = requests.post('https://appeears.earthdatacloud.nasa.gov/api/task', json=task, headers=headers)\n",
    "task_id = response.json()['task_id']"
   ]
  },
  {
   "cell_type": "code",
   "execution_count": null,
   "id": "30c05b4b-7a83-49bb-8486-291fd1b036c7",
   "metadata": {},
   "outputs": [],
   "source": [
    "import time\n",
    "while True:\n",
    "    status = requests.get(f'https://appeears.earthdatacloud.nasa.gov/api/status/{task_id}', headers=headers).json()\n",
    "    if status['status'] == 'done':\n",
    "        break\n",
    "    time.sleep(60)  # Wait 1 min"
   ]
  },
  {
   "cell_type": "code",
   "execution_count": null,
   "id": "cd5997a9-6361-449a-8551-23170b448071",
   "metadata": {},
   "outputs": [],
   "source": [
    "bundle = requests.get(f'https://appeears.earthdatacloud.nasa.gov/api/bundle/{task_id}', headers=headers).json()\n",
    "for file in bundle['files']:\n",
    "    if file['file_type'] == 'tif':  # Or 'csv' for stats\n",
    "        resp = requests.get(f'https://appeears.earthdatacloud.nasa.gov/api/bundle/{task_id}/{file[\"file_id\"]}', headers=headers, stream=True)\n",
    "        with open(file['file_name'], 'wb') as f:\n",
    "            for chunk in resp.iter_content(8192):\n",
    "                f.write(chunk)"
   ]
  },
  {
   "cell_type": "code",
   "execution_count": null,
   "id": "4fe5151d-7272-4c4b-b9ff-f33be99ef6dd",
   "metadata": {},
   "outputs": [],
   "source": []
  }
 ],
 "metadata": {
  "kernelspec": {
   "display_name": "Python 3 (ipykernel)",
   "language": "python",
   "name": "python3"
  },
  "language_info": {
   "codemirror_mode": {
    "name": "ipython",
    "version": 3
   },
   "file_extension": ".py",
   "mimetype": "text/x-python",
   "name": "python",
   "nbconvert_exporter": "python",
   "pygments_lexer": "ipython3",
   "version": "3.13.5"
  }
 },
 "nbformat": 4,
 "nbformat_minor": 5
}
